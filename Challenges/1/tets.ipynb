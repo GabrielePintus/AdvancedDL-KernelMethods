{
 "cells": [
  {
   "cell_type": "code",
   "execution_count": 79,
   "metadata": {},
   "outputs": [],
   "source": [
    "import numpy as np\n",
    "from scipy.integrate import quad"
   ]
  },
  {
   "cell_type": "code",
   "execution_count": 80,
   "metadata": {},
   "outputs": [],
   "source": [
    "def f(x, a):\n",
    "    return np.tanh(a*x)\n",
    "\n",
    "def g(x, b):\n",
    "    return np.exp(-b * x**2)\n",
    "\n",
    "def h(x, a, b):\n",
    "    return (f(x, a) - g(x, b))**2\n",
    "\n",
    "def H(a, b):\n",
    "    # Integral from 0 to 2 of h(x, a, b) dx\n",
    "    res, _ = quad(h, 0, 2, args=(a, b))\n",
    "    return res\n"
   ]
  },
  {
   "cell_type": "code",
   "execution_count": 81,
   "metadata": {},
   "outputs": [
    {
     "data": {
      "text/plain": [
       "  message: CONVERGENCE: NORM_OF_PROJECTED_GRADIENT_<=_PGTOL\n",
       "  success: True\n",
       "   status: 0\n",
       "      fun: 0.7398318560265426\n",
       "        x: [ 1.861e-01  3.000e+00]\n",
       "      nit: 11\n",
       "      jac: [-6.473e-06 -3.978e-02]\n",
       "     nfev: 45\n",
       "     njev: 15\n",
       " hess_inv: <2x2 LbfgsInvHessProduct with dtype=float64>"
      ]
     },
     "metadata": {},
     "output_type": "display_data"
    }
   ],
   "source": [
    "# Minimize H(a, b) using scipy.optimize.minimize\n",
    "from scipy.optimize import minimize\n",
    "\n",
    "res = minimize(\n",
    "    lambda x: H(x[0], x[1]) + f(2, x[0])**2 + g(2, x[0])**2,\n",
    "    x0=[1, 1],\n",
    "    bounds=[(0,3), (0,3)],\n",
    "    method='L-BFGS-B'\n",
    ")\n",
    "display(res)"
   ]
  },
  {
   "cell_type": "code",
   "execution_count": 82,
   "metadata": {},
   "outputs": [
    {
     "data": {
      "text/plain": [
       "array([0.2, 3. ])"
      ]
     },
     "execution_count": 82,
     "metadata": {},
     "output_type": "execute_result"
    }
   ],
   "source": [
    "np.round(res.x, 1)"
   ]
  }
 ],
 "metadata": {
  "kernelspec": {
   "display_name": "Python 3",
   "language": "python",
   "name": "python3"
  },
  "language_info": {
   "codemirror_mode": {
    "name": "ipython",
    "version": 3
   },
   "file_extension": ".py",
   "mimetype": "text/x-python",
   "name": "python",
   "nbconvert_exporter": "python",
   "pygments_lexer": "ipython3",
   "version": "3.12.7"
  }
 },
 "nbformat": 4,
 "nbformat_minor": 2
}
