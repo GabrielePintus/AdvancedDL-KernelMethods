{
 "cells": [
  {
   "cell_type": "code",
   "execution_count": 1,
   "metadata": {},
   "outputs": [],
   "source": [
    "import pandas as pd\n",
    "import numpy as np\n",
    "import matplotlib.pyplot as plt\n",
    "import seaborn as sns\n",
    "import torch\n",
    "from torch.utils.data import Subset\n",
    "import torch.nn as nn\n",
    "import torchvision\n",
    "import torchvision.transforms as transforms\n",
    "from sklearn.model_selection import train_test_split\n",
    "from tabulate import tabulate\n",
    "from torch.utils.data import DataLoader\n",
    "from torch.functional import F\n",
    "from torchvision import datasets, transforms\n",
    "from tqdm import tqdm\n",
    "\n",
    "SEED = 42\n",
    "np.random.seed(SEED)"
   ]
  },
  {
   "cell_type": "code",
   "execution_count": 2,
   "metadata": {},
   "outputs": [],
   "source": [
    "from utils import load_mnist\n",
    "\n",
    "downsample_factor = 0.99\n",
    "\n",
    "df_train, df_val, df_test = load_mnist(SEED)\n",
    "\n",
    "df_train, _ = train_test_split(df_train, test_size=1-downsample_factor, stratify=df_train[\"label\"], random_state=SEED)\n",
    "# df_val, _ = train_test_split(df_val, test_size=1-downsample_factor, stratify=df_val[\"label\"], random_state=SEED)\n",
    "# df_test, _ = train_test_split(df_test, test_size=1-downsample_factor, stratify=df_test[\"label\"], random_state=SEED)"
   ]
  },
  {
   "cell_type": "code",
   "execution_count": 3,
   "metadata": {},
   "outputs": [],
   "source": [
    "X_train, y_train = df_train.drop(columns='label').values, df_train['label'].values\n",
    "X_val,   y_val   = df_val.drop(columns='label').values,   df_val['label'].values\n",
    "X_test,  y_test  = df_test.drop(columns='label').values,  df_test['label'].values"
   ]
  },
  {
   "cell_type": "code",
   "execution_count": 4,
   "metadata": {},
   "outputs": [],
   "source": [
    "# Standardize\n",
    "from sklearn.preprocessing import StandardScaler\n",
    "\n",
    "scaler = StandardScaler()\n",
    "X_train = scaler.fit_transform(X_train)\n",
    "X_val = scaler.transform(X_val)\n",
    "X_test = scaler.transform(X_test)"
   ]
  },
  {
   "cell_type": "markdown",
   "metadata": {},
   "source": [
    "## Model"
   ]
  },
  {
   "cell_type": "code",
   "execution_count": 5,
   "metadata": {},
   "outputs": [
    {
     "name": "stdout",
     "output_type": "stream",
     "text": [
      "Using device: cuda\n"
     ]
    }
   ],
   "source": [
    "device = torch.device('cuda' if torch.cuda.is_available() else 'cpu')\n",
    "print(f'Using device: {device}')"
   ]
  },
  {
   "cell_type": "code",
   "execution_count": 6,
   "metadata": {},
   "outputs": [],
   "source": [
    "from sklearn.preprocessing import OneHotEncoder\n",
    "\n",
    "encoder = OneHotEncoder(sparse_output=False)\n",
    "\n",
    "y_train = encoder.fit_transform(y_train.reshape(-1, 1))\n",
    "y_val = encoder.fit_transform(y_val.reshape(-1, 1))"
   ]
  },
  {
   "cell_type": "code",
   "execution_count": 7,
   "metadata": {},
   "outputs": [],
   "source": [
    "from torch.utils.data import DataLoader, TensorDataset\n",
    "\n",
    "transform = transforms.Compose([\n",
    "    transforms.ToTensor(),  # Convert images to Tensor\n",
    "    # Random gaussian noise\n",
    "    transforms.RandomApply([transforms.Lambda(lambda x: x + 0.1 * torch.randn_like(x))], p=0.5),\n",
    "    # Random rotation\n",
    "    # transforms.RandomApply([transforms.RandomRotation(15)], p=0.5),\n",
    "    # Random horizontal flip\n",
    "    transforms.RandomHorizontalFlip(p=0.5),\n",
    "    # Random vertical flip\n",
    "    # transforms.RandomVerticalFlip(p=0.5),\n",
    "    # Random translation\n",
    "    transforms.RandomApply([transforms.RandomAffine(0, translate=(0.1, 0.1))], p=0.5),\n",
    "    # Random crop\n",
    "    transforms.RandomCrop(28, padding=4),\n",
    "    # Random erasing\n",
    "    transforms.RandomErasing(p=0.5),\n",
    "])\n",
    "\n",
    "x_train = torch.tensor(X_train, dtype=torch.float32).reshape(-1, 1, 28, 28)\n",
    "x_val = torch.tensor(X_val, dtype=torch.float32).reshape(-1, 1, 28, 28)\n",
    "y_train = torch.tensor(y_train, dtype=torch.float32)\n",
    "y_val = torch.tensor(y_val, dtype=torch.float32)\n",
    "\n",
    "train_dataset = TensorDataset(x_train, y_train)\n",
    "val_dataset = TensorDataset(x_val, y_val)"
   ]
  },
  {
   "cell_type": "code",
   "execution_count": 8,
   "metadata": {},
   "outputs": [],
   "source": [
    "batch_size = 1600\n",
    "\n",
    "train_loader = DataLoader(train_dataset, batch_size=batch_size, shuffle=True)\n",
    "val_loader = DataLoader(val_dataset, batch_size=batch_size, shuffle=False)"
   ]
  },
  {
   "cell_type": "markdown",
   "metadata": {},
   "source": [
    "### Train"
   ]
  },
  {
   "cell_type": "code",
   "execution_count": 9,
   "metadata": {},
   "outputs": [],
   "source": [
    "class ResidualBlock(nn.Module):\n",
    "    def __init__(self, in_channels, out_channels, stride=1, downsample=None):\n",
    "        super(ResidualBlock, self).__init__()\n",
    "        \n",
    "        # Define the layers of the residual block\n",
    "        self.conv1 = nn.Conv2d(in_channels, out_channels, kernel_size=3, stride=stride, padding=1)\n",
    "        self.bn1 = nn.BatchNorm2d(out_channels)\n",
    "        \n",
    "        self.conv2 = nn.Conv2d(out_channels, out_channels, kernel_size=3, stride=1, padding=1)\n",
    "        self.bn2 = nn.BatchNorm2d(out_channels)\n",
    "        \n",
    "        # If input and output channels are different, we need a downsample layer to match dimensions\n",
    "        self.downsample = downsample\n",
    "\n",
    "    def forward(self, x):\n",
    "        identity = x  # Save the input for the skip connection\n",
    "        \n",
    "        # First convolution layer with batch normalization and ReLU activation\n",
    "        out = F.relu(self.bn1(self.conv1(x)))\n",
    "        \n",
    "        # Second convolution layer with batch normalization\n",
    "        out = self.bn2(self.conv2(out))\n",
    "        \n",
    "        # Apply the downsample operation if it exists (for matching dimensions)\n",
    "        if self.downsample is not None:\n",
    "            identity = self.downsample(x)\n",
    "        \n",
    "        # Add the identity (skip connection)\n",
    "        out += identity\n",
    "        out = F.relu(out)  # Apply ReLU after the addition\n",
    "        \n",
    "        return out\n",
    "\n",
    "from models import ConvBlock\n",
    "\n",
    "\n",
    "class NeuralNet(nn.Module):\n",
    "    def __init__(self, in_channels=1, dropout=0.5):\n",
    "        super(NeuralNet, self).__init__()\n",
    "\n",
    "        self.cnn = nn.Sequential(\n",
    "            ConvBlock(in_channels, 64, kernel_size=2, stride=1, padding=1),\n",
    "            nn.ReLU(),\n",
    "            ConvBlock(64, 128, kernel_size=2, stride=1, padding=1),\n",
    "            nn.ReLU(),\n",
    "        )\n",
    "        self.resnet = nn.Sequential(\n",
    "            ResidualBlock(128, 128),\n",
    "            ResidualBlock(128, 128),\n",
    "            ResidualBlock(128, 256, stride=2, downsample=nn.Sequential(nn.Conv2d(128, 256, kernel_size=1, stride=2), nn.BatchNorm2d(256))),\n",
    "            ResidualBlock(256, 256),\n",
    "            ResidualBlock(256, 256),\n",
    "            ResidualBlock(256, 512, stride=2, downsample=nn.Sequential(nn.Conv2d(256, 512, kernel_size=1, stride=2), nn.BatchNorm2d(512))),\n",
    "            ResidualBlock(512, 512),\n",
    "            ResidualBlock(512, 512),\n",
    "            ResidualBlock(512, 1024, stride=2, downsample=nn.Sequential(nn.Conv2d(512, 1024, kernel_size=1, stride=2), nn.BatchNorm2d(1024))),\n",
    "        )\n",
    "        self.mlp = nn.Sequential(\n",
    "            nn.Dropout(dropout),\n",
    "            nn.Linear(1024, 256),\n",
    "            nn.ReLU(),\n",
    "            nn.Dropout(dropout//2),\n",
    "            nn.Linear(256, 10)\n",
    "        )\n",
    "\n",
    "\n",
    "\n",
    "    def forward(self, x):\n",
    "        output = self.cnn(x)\n",
    "\n",
    "        output = self.resnet(output)\n",
    "        # print(output.shape)\n",
    "\n",
    "        output = output.view(output.size(0), -1)\n",
    "        # print(output.shape)\n",
    "\n",
    "        output = self.mlp(output)\n",
    "        \n",
    "        return output"
   ]
  },
  {
   "cell_type": "code",
   "execution_count": 10,
   "metadata": {},
   "outputs": [
    {
     "name": "stdout",
     "output_type": "stream",
     "text": [
      "Number of parameters: 3.2E+07\n"
     ]
    }
   ],
   "source": [
    "model = NeuralNet(1, 0.05).to(device)\n",
    "print(f\"Number of parameters: {sum(p.numel() for p in model.parameters()):.1E}\")"
   ]
  },
  {
   "cell_type": "code",
   "execution_count": 11,
   "metadata": {},
   "outputs": [
    {
     "name": "stderr",
     "output_type": "stream",
     "text": [
      "Progress:  65%|██████▍   | 97/150 [06:51<03:44,  4.24s/it, Train Loss=0.166, Val Loss=0.327]"
     ]
    },
    {
     "name": "stdout",
     "output_type": "stream",
     "text": [
      "Early stopping triggered!\n"
     ]
    },
    {
     "name": "stderr",
     "output_type": "stream",
     "text": [
      "\n"
     ]
    }
   ],
   "source": [
    "from utils import train\n",
    "\n",
    "\n",
    "initial_lr = 1e-6\n",
    "optimizer = torch.optim.Adam(model.parameters(), lr=initial_lr, weight_decay=1e-6, betas=(0.99, 0.999))\n",
    "# lr_scheduler = torch.optim.lr_scheduler.ReduceLROnPlateau(optimizer, mode='min', factor=0.5, patience=5)\n",
    "lr_scheduler = torch.optim.lr_scheduler.StepLR(optimizer, step_size=30, gamma=0.5)\n",
    "\n",
    "train_losses, val_losses, lr_evolution = train(\n",
    "    model = model,\n",
    "    train_loader = train_loader,\n",
    "    val_loader = val_loader,\n",
    "    criterion = nn.CrossEntropyLoss(),\n",
    "    optimizer = optimizer,\n",
    "    lr_scheduler = lr_scheduler,\n",
    "    n_epochs = 150,\n",
    "    grad_clip = 0.3,\n",
    "    device = device\n",
    ")"
   ]
  },
  {
   "cell_type": "code",
   "execution_count": 12,
   "metadata": {},
   "outputs": [
    {
     "name": "stdout",
     "output_type": "stream",
     "text": [
      "Final training loss: 0.16645643055274678\n",
      "Final validation loss: 0.3268962343533834\n"
     ]
    },
    {
     "data": {
      "image/png": "[encoded data removed]",
      "text/plain": [
       "<Figure size 700x500 with 1 Axes>"
      ]
     },
     "metadata": {},
     "output_type": "display_data"
    }
   ],
   "source": [
    "from utils import Plots\n",
    "\n",
    "Plots.loss_plot(train_losses, val_losses)"
   ]
  },
  {
   "cell_type": "code",
   "execution_count": 13,
   "metadata": {},
   "outputs": [],
   "source": [
    "# Compute predictions on train and validation set\n",
    "y_train_pred = np.zeros((len(y_train), 10))\n",
    "y_val_pred = np.zeros((len(y_val), 10))\n",
    "\n",
    "model.eval()\n",
    "for i, (x_batch, y_batch) in enumerate(train_loader):\n",
    "    x_batch = x_batch.to(device)\n",
    "    y_train_pred[i * batch_size:(i + 1) * batch_size] = model(x_batch).detach().cpu().numpy()\n",
    "\n",
    "for i, (x_batch, y_batch) in enumerate(val_loader):\n",
    "    x_batch = x_batch.to(device)\n",
    "    y_val_pred[i * batch_size:(i + 1) * batch_size] = model(x_batch).detach().cpu().numpy()"
   ]
  },
  {
   "cell_type": "code",
   "execution_count": 14,
   "metadata": {},
   "outputs": [
    {
     "name": "stdout",
     "output_type": "stream",
     "text": [
      "Train accuracy: 0.0982\n",
      "Validation accuracy: 0.8903\n"
     ]
    }
   ],
   "source": [
    "y_train_pred = encoder.inverse_transform(y_train_pred)\n",
    "y_val_pred = encoder.inverse_transform(y_val_pred)\n",
    "\n",
    "from sklearn.metrics import accuracy_score\n",
    "\n",
    "train_acc = accuracy_score(df_train['label'], y_train_pred)\n",
    "val_acc = accuracy_score(df_val['label'], y_val_pred)\n",
    "\n",
    "print(f\"Train accuracy: {train_acc:.4f}\")\n",
    "print(f\"Validation accuracy: {val_acc:.4f}\")"
   ]
  },
  {
   "cell_type": "code",
   "execution_count": 15,
   "metadata": {},
   "outputs": [
    {
     "data": {
      "image/png": "[encoded data removed]",
      "text/plain": [
       "<Figure size 1500x500 with 1 Axes>"
      ]
     },
     "metadata": {},
     "output_type": "display_data"
    }
   ],
   "source": [
    "fig, ax = plt.subplots(1, 1, figsize=(15, 5))\n",
    "ax.plot(lr_evolution)\n",
    "ax.set_xlabel('Epoch')\n",
    "ax.set_ylabel('Learning rate')\n",
    "ax.set_title('Learning rate evolution')\n",
    "ax.grid(True)\n",
    "ax.set_yscale('log')\n",
    "plt.show()"
   ]
  }
 ],
 "metadata": {
  "kernelspec": {
   "display_name": "Python 3",
   "language": "python",
   "name": "python3"
  },
  "language_info": {
   "codemirror_mode": {
    "name": "ipython",
    "version": 3
   },
   "file_extension": ".py",
   "mimetype": "text/x-python",
   "name": "python",
   "nbconvert_exporter": "python",
   "pygments_lexer": "ipython3",
   "version": "3.12.7"
  }
 },
 "nbformat": 4,
 "nbformat_minor": 2
}
