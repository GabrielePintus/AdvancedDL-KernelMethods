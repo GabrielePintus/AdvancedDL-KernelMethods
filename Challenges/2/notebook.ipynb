{
 "cells": [
  {
   "cell_type": "code",
   "execution_count": 1,
   "metadata": {},
   "outputs": [
    {
     "name": "stdout",
     "output_type": "stream",
     "text": [
      "Using device: cuda\n"
     ]
    }
   ],
   "source": [
    "import pandas as pd\n",
    "import numpy as np\n",
    "import matplotlib.pyplot as plt\n",
    "import seaborn as sns\n",
    "\n",
    "import torch\n",
    "import torch.nn as nn\n",
    "from torch.utils.data import DataLoader\n",
    "from tqdm.auto import tqdm\n",
    "\n",
    "# Custom modules\n",
    "from utils import *\n",
    "from models import *\n",
    "\n",
    "\n",
    "SEED = 42\n",
    "np.random.seed(SEED)\n",
    "torch.manual_seed(SEED)\n",
    "\n",
    "device = torch.device(\"cuda\" if torch.cuda.is_available() else \"cpu\")\n",
    "print(\"Using device:\", device)"
   ]
  },
  {
   "cell_type": "markdown",
   "metadata": {},
   "source": [
    "### Teacher model"
   ]
  },
  {
   "cell_type": "code",
   "execution_count": 2,
   "metadata": {},
   "outputs": [
    {
     "data": {
      "text/plain": [
       "Teacher(\n",
       "  (activation): ReLU()\n",
       "  (net): Sequential(\n",
       "    (0): Linear(in_features=100, out_features=75, bias=True)\n",
       "    (1): ReLU()\n",
       "    (2): Linear(in_features=75, out_features=50, bias=True)\n",
       "    (3): ReLU()\n",
       "    (4): Linear(in_features=50, out_features=25, bias=True)\n",
       "    (5): ReLU()\n",
       "    (6): Linear(in_features=25, out_features=1, bias=True)\n",
       "  )\n",
       ")"
      ]
     },
     "execution_count": 2,
     "metadata": {},
     "output_type": "execute_result"
    }
   ],
   "source": [
    "teacher = Teacher().to(device)\n",
    "teacher.init_weights()\n",
    "\n",
    "# Put the model in evaluation mode\n",
    "teacher.eval()"
   ]
  },
  {
   "cell_type": "markdown",
   "metadata": {},
   "source": [
    "We now generate the test dataset"
   ]
  },
  {
   "cell_type": "code",
   "execution_count": 3,
   "metadata": {},
   "outputs": [],
   "source": [
    "# The covariates are random uniform in [0,2] of 100 dimensions\n",
    "dataset_test = generate_test_dataset(60000, teacher, device)\n",
    "test_loader = DataLoader(dataset_test, batch_size=1024, shuffle=False)"
   ]
  },
  {
   "cell_type": "markdown",
   "metadata": {},
   "source": [
    "### General training parameters"
   ]
  },
  {
   "cell_type": "code",
   "execution_count": 4,
   "metadata": {},
   "outputs": [],
   "source": [
    "n_steps = 1000\n",
    "test_every = 50"
   ]
  },
  {
   "cell_type": "markdown",
   "metadata": {},
   "source": [
    "### Student models"
   ]
  },
  {
   "cell_type": "markdown",
   "metadata": {},
   "source": [
    "#### Under parameterized student model"
   ]
  },
  {
   "cell_type": "code",
   "execution_count": 5,
   "metadata": {},
   "outputs": [
    {
     "name": "stdout",
     "output_type": "stream",
     "text": [
      "Number of parameters for StudentU: 1021\n"
     ]
    }
   ],
   "source": [
    "student = StudentU().to(device)\n",
    "student.init_weights()\n",
    "\n",
    "print_nparams(student)"
   ]
  },
  {
   "cell_type": "code",
   "execution_count": 6,
   "metadata": {},
   "outputs": [
    {
     "data": {
      "application/vnd.jupyter.widget-view+json": {
       "model_id": "4c79ab57ec0f46c98600b6035c1a1c93",
       "version_major": 2,
       "version_minor": 0
      },
      "text/plain": [
       "Training:   0%|          | 0/1000 [00:00<?, ?it/s]"
      ]
     },
     "metadata": {},
     "output_type": "display_data"
    }
   ],
   "source": [
    "losses_train, losses_test = train(\n",
    "    student = student,\n",
    "    teacher = teacher,\n",
    "    test_loader=test_loader,\n",
    "    lr = 1e-1,\n",
    "    n_steps=1000,\n",
    "    test_every=50,\n",
    "    device=device,\n",
    ")"
   ]
  },
  {
   "cell_type": "code",
   "execution_count": 7,
   "metadata": {},
   "outputs": [],
   "source": [
    "df_StudentU = pd.DataFrame({\n",
    "    \"train_loss\": losses_train,\n",
    "    \"test_loss\": interpolate_test_losses(losses_test, n_steps, test_every)\n",
    "})\n",
    "df_StudentU[\"train_loss_SMA\"] = df_StudentU[\"train_loss\"].rolling(window=10).mean()"
   ]
  },
  {
   "cell_type": "markdown",
   "metadata": {},
   "source": [
    "#### Equally parametrized student model"
   ]
  },
  {
   "cell_type": "code",
   "execution_count": null,
   "metadata": {},
   "outputs": [],
   "source": [
    "student = StudentE().to(device)\n",
    "student.init_weights()\n",
    "\n",
    "print_nparams(student)"
   ]
  },
  {
   "cell_type": "code",
   "execution_count": null,
   "metadata": {},
   "outputs": [],
   "source": [
    "losses_train, losses_test = train(\n",
    "    student = student,\n",
    "    teacher = teacher,\n",
    "    test_loader=test_loader,\n",
    "    lr = 1e-1,\n",
    "    n_steps=1000,\n",
    "    test_every=50,\n",
    "    device=device,\n",
    ")"
   ]
  },
  {
   "cell_type": "code",
   "execution_count": null,
   "metadata": {},
   "outputs": [],
   "source": [
    "df_StudentE = pd.DataFrame({\n",
    "    \"train_loss\": losses_train,\n",
    "    \"test_loss\": interpolate_test_losses(losses_test, n_steps, test_every)\n",
    "})\n",
    "df_StudentE[\"train_loss_SMA\"] = df_StudentU[\"train_loss\"].rolling(window=10).mean()"
   ]
  },
  {
   "cell_type": "markdown",
   "metadata": {},
   "source": [
    "#### Over Parameterized student model"
   ]
  },
  {
   "cell_type": "code",
   "execution_count": null,
   "metadata": {},
   "outputs": [],
   "source": [
    "student = StudentO().to(device)\n",
    "student.init_weights()\n",
    "\n",
    "print_nparams(student)"
   ]
  },
  {
   "cell_type": "code",
   "execution_count": null,
   "metadata": {},
   "outputs": [],
   "source": [
    "losses_train, losses_test = train(\n",
    "    student = student,\n",
    "    teacher = teacher,\n",
    "    test_loader=test_loader,\n",
    "    lr = 1e-1,\n",
    "    n_steps=1000,\n",
    "    test_every=50,\n",
    "    device=device,\n",
    ")"
   ]
  },
  {
   "cell_type": "code",
   "execution_count": null,
   "metadata": {},
   "outputs": [],
   "source": [
    "df_StudentO = pd.DataFrame({\n",
    "    \"train_loss\": losses_train,\n",
    "    \"test_loss\": interpolate_test_losses(losses_test, n_steps, test_every)\n",
    "})\n",
    "df_StudentO[\"train_loss_SMA\"] = df_StudentU[\"train_loss\"].rolling(window=10).mean()"
   ]
  }
 ],
 "metadata": {
  "kernelspec": {
   "display_name": "usr",
   "language": "python",
   "name": "python3"
  },
  "language_info": {
   "codemirror_mode": {
    "name": "ipython",
    "version": 3
   },
   "file_extension": ".py",
   "mimetype": "text/x-python",
   "name": "python",
   "nbconvert_exporter": "python",
   "pygments_lexer": "ipython3",
   "version": "3.12.7"
  }
 },
 "nbformat": 4,
 "nbformat_minor": 2
}
