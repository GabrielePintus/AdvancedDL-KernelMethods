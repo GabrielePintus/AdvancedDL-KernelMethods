{
 "cells": [
  {
   "cell_type": "markdown",
   "metadata": {},
   "source": [
    "# Implicit regularization in Transfer Learning\n",
    "\n",
    "Transfer Learning has been a hot topic in the field of machine learning for the past few years.\n",
    "\n",
    "**The problem**: We aim to approximate a function $f : \\mathbb{R}^d \\rightarrow \\mathbb{R}$ using a model $h : \\mathbb{R}^d \\rightarrow \\mathbb{R}$, where $h$ is a neural network with parameters $\\theta$. The challenge arises from the fact that the data generating distribution $\\mathcal{D}$ is difficult to sample from, resulting in a small dataset $D = \\{(x_i, y_i)\\}_{i=1}^n$ with limited samples.\n",
    "\n",
    "**The idea behind Transfer Learning**:\n",
    "The core intuition lies in leveraging knowledge gained in one context (source domain or task) to improve learning in a different, but related context (target domain or task).\n"
   ]
  },
  {
   "cell_type": "code",
   "execution_count": 372,
   "metadata": {},
   "outputs": [
    {
     "name": "stdout",
     "output_type": "stream",
     "text": [
      "Using device:  cuda\n"
     ]
    }
   ],
   "source": [
    "import pandas as pd\n",
    "import numpy as np\n",
    "import torch\n",
    "import torch.nn as nn\n",
    "import torch.optim as optim\n",
    "import matplotlib.pyplot as plt\n",
    "from mpl_toolkits.mplot3d import Axes3D\n",
    "from sklearn.model_selection import train_test_split\n",
    "from tqdm.notebook import tqdm\n",
    "from sklearn.decomposition import PCA\n",
    "from copy import deepcopy\n",
    "from utils import *\n",
    "\n",
    "SEED = 26\n",
    "np.random.seed(SEED)\n",
    "torch.manual_seed(SEED)\n",
    "\n",
    "device = torch.device(\"cuda\" if torch.cuda.is_available() else \"cpu\")\n",
    "print(\"Using device: \", device)"
   ]
  },
  {
   "cell_type": "markdown",
   "metadata": {},
   "source": [
    "## Loading the models"
   ]
  },
  {
   "cell_type": "code",
   "execution_count": 373,
   "metadata": {},
   "outputs": [],
   "source": [
    "from torchvision.models import resnet50, ResNet50_Weights\n",
    "\n",
    "model_new        = resnet50(weights=None)\n",
    "model_pretrained = resnet50(weights=ResNet50_Weights.IMAGENET1K_V2)"
   ]
  },
  {
   "cell_type": "markdown",
   "metadata": {},
   "source": [
    "## Fine tuning"
   ]
  },
  {
   "cell_type": "code",
   "execution_count": 374,
   "metadata": {},
   "outputs": [
    {
     "name": "stdout",
     "output_type": "stream",
     "text": [
      "Number of training samples:  1020\n",
      "Number of test samples:  6149\n"
     ]
    }
   ],
   "source": [
    "# Stanford Cars Dataset\n",
    "from torchvision.datasets import Flowers102\n",
    "import torchvision.transforms as transforms\n",
    "\n",
    "# Load the dataset\n",
    "transform = transforms.Compose([\n",
    "    transforms.Resize((128, 128)),\n",
    "    transforms.ToTensor()\n",
    "])\n",
    "train_dataset = Flowers102(\n",
    "    root = 'data',\n",
    "    split = 'train',\n",
    "    transform=transform,\n",
    "    download=True\n",
    ")\n",
    "test_dataset = Flowers102(\n",
    "    root = 'data',\n",
    "    split = 'test',\n",
    "    transform=transform,\n",
    "    download=True\n",
    ")\n",
    "\n",
    "print(\"Number of training samples: \", len(train_dataset))\n",
    "print(\"Number of test samples: \", len(test_dataset))"
   ]
  },
  {
   "cell_type": "code",
   "execution_count": 375,
   "metadata": {},
   "outputs": [],
   "source": [
    "BATCH_SIZE = 32\n",
    "train_loader = torch.utils.data.DataLoader(train_dataset, batch_size=BATCH_SIZE, shuffle=True)\n",
    "test_loader = torch.utils.data.DataLoader(test_dataset, batch_size=BATCH_SIZE, shuffle=False)"
   ]
  },
  {
   "cell_type": "code",
   "execution_count": 376,
   "metadata": {},
   "outputs": [],
   "source": [
    "# Adapt the last layer of the model from 1000 classes to 101 classes\n",
    "model_new.fc = nn.Linear(model_new.fc.in_features, 102)\n",
    "model_pretrained.fc = nn.Linear(model_pretrained.fc.in_features, 102)"
   ]
  },
  {
   "cell_type": "markdown",
   "metadata": {},
   "source": [
    "## Fine tuning"
   ]
  },
  {
   "cell_type": "code",
   "execution_count": 377,
   "metadata": {},
   "outputs": [
    {
     "name": "stdout",
     "output_type": "stream",
     "text": [
      "Number of parameters in the model: 2.371703E+07\n"
     ]
    }
   ],
   "source": [
    "n_epochs = 10\n",
    "criterion = nn.CrossEntropyLoss()\n",
    "lr = 1e-3\n",
    "optimizer_new = optim.Adam(model_pretrained.parameters(), lr=lr)\n",
    "optimizer_pretrained = optim.Adam(model_pretrained.parameters(), lr=lr)\n",
    "\n",
    "model_new.to(device)\n",
    "model_pretrained.to(device)\n",
    "\n",
    "print(f\"Number of parameters in the model: {sum(p.numel() for p in model_pretrained.parameters()):E}\")"
   ]
  },
  {
   "cell_type": "code",
   "execution_count": 378,
   "metadata": {},
   "outputs": [
    {
     "data": {
      "application/vnd.jupyter.widget-view+json": {
       "model_id": "c079157e443e45e59ae2bf436572c632",
       "version_major": 2,
       "version_minor": 0
      },
      "text/plain": [
       "Epochs:   0%|          | 0/10 [00:00<?, ?it/s]"
      ]
     },
     "metadata": {},
     "output_type": "display_data"
    },
    {
     "ename": "KeyboardInterrupt",
     "evalue": "",
     "output_type": "error",
     "traceback": [
      "\u001b[0;31m---------------------------------------------------------------------------\u001b[0m",
      "\u001b[0;31mKeyboardInterrupt\u001b[0m                         Traceback (most recent call last)",
      "Cell \u001b[0;32mIn[378], line 14\u001b[0m\n\u001b[1;32m     12\u001b[0m     loss\u001b[38;5;241m.\u001b[39mbackward()\n\u001b[1;32m     13\u001b[0m     optimizer_new\u001b[38;5;241m.\u001b[39mstep()\n\u001b[0;32m---> 14\u001b[0m     train_loss \u001b[38;5;241m+\u001b[39m\u001b[38;5;241m=\u001b[39m \u001b[43mloss\u001b[49m\u001b[38;5;241;43m.\u001b[39;49m\u001b[43mitem\u001b[49m\u001b[43m(\u001b[49m\u001b[43m)\u001b[49m\n\u001b[1;32m     15\u001b[0m train_loss \u001b[38;5;241m/\u001b[39m\u001b[38;5;241m=\u001b[39m \u001b[38;5;28mlen\u001b[39m(train_loader)\n\u001b[1;32m     16\u001b[0m train_losses_new\u001b[38;5;241m.\u001b[39mappend(train_loss)\n",
      "\u001b[0;31mKeyboardInterrupt\u001b[0m: "
     ]
    }
   ],
   "source": [
    "progress_bar = tqdm(range(n_epochs), desc=\"Epochs\")\n",
    "train_losses_new, test_losses_new = [], []\n",
    "for epoch in progress_bar:\n",
    "    model_new.train()\n",
    "\n",
    "    train_loss = 0\n",
    "    for X, y in train_loader:\n",
    "        X, y = X.to(device), y.to(device)\n",
    "        optimizer_new.zero_grad()\n",
    "        y_hat = model_new(X)\n",
    "        loss = criterion(y_hat, y)\n",
    "        loss.backward()\n",
    "        optimizer_new.step()\n",
    "        train_loss += loss.item()\n",
    "    train_loss /= len(train_loader)\n",
    "    train_losses_new.append(train_loss)\n",
    "\n",
    "    model_new.eval()\n",
    "    test_loss = 0\n",
    "    for X, y in test_loader:\n",
    "        X, y = X.to(device), y.to(device)\n",
    "        y_hat = model_new(X)\n",
    "        loss = criterion(y_hat, y)\n",
    "        test_loss += loss.item()\n",
    "    test_loss /= len(test_loader)\n",
    "    test_losses_new.append(test_loss)\n",
    "\n",
    "    progress_bar.set_postfix({\n",
    "        \"train_loss\": train_loss,\n",
    "        \"test_loss\": test_loss\n",
    "    })                            "
   ]
  }
 ],
 "metadata": {
  "kernelspec": {
   "display_name": "venv",
   "language": "python",
   "name": "python3"
  },
  "language_info": {
   "codemirror_mode": {
    "name": "ipython",
    "version": 3
   },
   "file_extension": ".py",
   "mimetype": "text/x-python",
   "name": "python",
   "nbconvert_exporter": "python",
   "pygments_lexer": "ipython3",
   "version": "3.12.8"
  }
 },
 "nbformat": 4,
 "nbformat_minor": 2
}
