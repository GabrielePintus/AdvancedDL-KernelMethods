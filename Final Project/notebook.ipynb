{
 "cells": [
  {
   "cell_type": "code",
   "execution_count": null,
   "metadata": {},
   "outputs": [],
   "source": [
    "import pandas as pd\n",
    "import numpy as np\n",
    "import matplotlib.pyplot as plt\n",
    "from sklearn.preprocessing import StandardScaler\n",
    "\n",
    "# Generate random dataset\n",
    "# The covariates are sinewaves of different frequencies\n",
    "# The response is a linear combination of the covariates\n",
    "\n",
    "np.random.seed(0)\n",
    "n_samples = 10000\n",
    "dim = 10\n",
    "\n",
    "X = np.zeros((n_samples, dim))\n",
    "\n"
   ]
  }
 ],
 "metadata": {
  "kernelspec": {
   "display_name": "usr",
   "language": "python",
   "name": "python3"
  },
  "language_info": {
   "name": "python",
   "version": "3.12.4"
  }
 },
 "nbformat": 4,
 "nbformat_minor": 2
}
